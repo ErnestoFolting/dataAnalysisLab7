{
 "cells": [
  {
   "cell_type": "markdown",
   "metadata": {},
   "source": [
    "Лабораторна робота № 7\n",
    "Смислов Даніл\n",
    "ІП-01\n",
    "\n",
    "Спочатку імпортуємо потрібні для роботи бібліотеки"
   ]
  },
  {
   "cell_type": "code",
   "execution_count": null,
   "metadata": {},
   "outputs": [],
   "source": [
    "import pandas as pd \n",
    "import matplotlib.pyplot as plt\n",
    "import numpy as np"
   ]
  },
  {
   "cell_type": "markdown",
   "metadata": {},
   "source": [
    "Тепер давайте імпортуємо датасет з інформацією про захворювання на Covid."
   ]
  },
  {
   "cell_type": "code",
   "execution_count": null,
   "metadata": {},
   "outputs": [],
   "source": [
    "def getDataset():\n",
    "    data = pd.read_csv('covidInfo.csv',index_col=['date'],parse_dates=['date'])\n",
    "    return data \n",
    "\n",
    "dataset = getDataset()\n",
    "dataset.info()\n",
    "dataset.head(10)"
   ]
  },
  {
   "cell_type": "markdown",
   "metadata": {},
   "source": [
    "Тепер давайте залишимо саме потрібні нам дані."
   ]
  },
  {
   "cell_type": "code",
   "execution_count": null,
   "metadata": {},
   "outputs": [],
   "source": [
    "dataset = dataset[['location','new_cases']]\n",
    "dataset.info()\n",
    "dataset.tail(10)"
   ]
  },
  {
   "cell_type": "markdown",
   "metadata": {},
   "source": [
    "Для зручності давайте перейменуємо стовпчики"
   ]
  },
  {
   "cell_type": "code",
   "execution_count": null,
   "metadata": {},
   "outputs": [],
   "source": [
    "dataset = dataset.rename(columns={'location':'Country','new_cases':'New Cases'})\n",
    "dataset.info()\n",
    "dataset.tail(10)"
   ]
  },
  {
   "cell_type": "markdown",
   "metadata": {},
   "source": [
    "Тепер давайте згрупуємо дані по країнах та оберемо для України та межуючої з нею Польщі."
   ]
  },
  {
   "cell_type": "code",
   "execution_count": null,
   "metadata": {},
   "outputs": [],
   "source": [
    "dataset = dataset[(dataset['Country']=='Ukraine') | (dataset['Country']=='Poland')]\n",
    "print(dataset)"
   ]
  },
  {
   "cell_type": "markdown",
   "metadata": {},
   "source": [
    "Давайте перевіримо на коректність даних."
   ]
  },
  {
   "cell_type": "code",
   "execution_count": null,
   "metadata": {},
   "outputs": [],
   "source": [
    "print(dataset[dataset['New Cases']<0])"
   ]
  },
  {
   "cell_type": "markdown",
   "metadata": {},
   "source": [
    "Добре, давайте переробимо в таблицю, з якою буде зручніше працювати."
   ]
  },
  {
   "cell_type": "code",
   "execution_count": null,
   "metadata": {},
   "outputs": [],
   "source": [
    "dataset = dataset.pivot_table(values = ['New Cases'],index = ['date'],columns = ['Country'])\n",
    "\n",
    "dataset.info()\n",
    "dataset.head(100)"
   ]
  },
  {
   "cell_type": "markdown",
   "metadata": {},
   "source": [
    "Гуд, можемо працювати з даними. Давайте візуалізуємо динаміку Covid в часі в Польщі та Україні."
   ]
  },
  {
   "cell_type": "code",
   "execution_count": null,
   "metadata": {},
   "outputs": [],
   "source": [
    "fig, ax = plt.subplots(figsize=(15,10))\n",
    "dataset['New Cases'][['Ukraine','Poland']].plot(ax=ax)\n",
    "plt.title('Динаміка Covid в часі в Польщі та Україні.')\n",
    "ax.grid()\n",
    "plt.show()"
   ]
  },
  {
   "cell_type": "markdown",
   "metadata": {},
   "source": [
    "Давайте проаналізуємо окремо дані про захворювання в Україні."
   ]
  },
  {
   "cell_type": "code",
   "execution_count": null,
   "metadata": {},
   "outputs": [],
   "source": [
    "ukrDataset = dataset['New Cases']['Ukraine']\n",
    "ukrDataset.describe()\n"
   ]
  },
  {
   "cell_type": "markdown",
   "metadata": {},
   "source": [
    "Тепер про захворювання в Польщі."
   ]
  },
  {
   "cell_type": "code",
   "execution_count": null,
   "metadata": {},
   "outputs": [],
   "source": [
    "polDataset = dataset['New Cases']['Poland']\n",
    "polDataset.describe()"
   ]
  },
  {
   "cell_type": "markdown",
   "metadata": {},
   "source": [
    "Тепер давайте побудуємо 2 гістограми по кількості захворювань для країн."
   ]
  },
  {
   "cell_type": "code",
   "execution_count": null,
   "metadata": {},
   "outputs": [],
   "source": [
    "fig, ax = plt.subplots(1,2,figsize = (12,8))\n",
    "ax[0].set_title('Ukraine')\n",
    "ax[0].hist(ukrDataset)\n",
    "ax[1].set_title('Poland')\n",
    "ax[1].hist(polDataset)\n",
    "\n",
    "plt.show()"
   ]
  },
  {
   "cell_type": "markdown",
   "metadata": {},
   "source": [
    "Для кращої візуалізації властивостей ряду давайте застосуємо згладжування за допомогою ковзаючого середнього."
   ]
  },
  {
   "cell_type": "code",
   "execution_count": null,
   "metadata": {},
   "outputs": [],
   "source": [
    "def plot_moving_average(series,n):\n",
    "    rolling_mean = series.rolling(window=n).mean()\n",
    "    plt.figure(figsize=(15,5))\n",
    "    plt.title(f'Moving average \\n window size = {n}')\n",
    "    plt.plot(rolling_mean,c = 'orange',label = 'Rolling mean trend')\n",
    "    plt.plot(series[n:],label = 'Actual values')\n",
    "    plt.legend(loc = 'upper left')\n",
    "    plt.grid(True)\n",
    "    plt.show()\n",
    "\n",
    "print(\"Ukraine\")\n",
    "plot_moving_average(ukrDataset,5)\n",
    "plot_moving_average(ukrDataset,10)\n",
    "plot_moving_average(ukrDataset,20)\n",
    "print(\"Poland\")\n",
    "plot_moving_average(polDataset,5)\n",
    "plot_moving_average(polDataset,10)\n",
    "plot_moving_average(polDataset,20)"
   ]
  },
  {
   "cell_type": "markdown",
   "metadata": {},
   "source": [
    "Тепер давайте візуалізуємо декомпозицію ряду на тренд, сезонність та залишки для даних про захворювання в Україні."
   ]
  },
  {
   "cell_type": "code",
   "execution_count": null,
   "metadata": {},
   "outputs": [],
   "source": [
    "import statsmodels.tsa.api as smt\n",
    "\n",
    "decomposition = smt.seasonal_decompose(ukrDataset[~ukrDataset.isna()])\n",
    "\n",
    "fig = decomposition.plot()\n",
    "fig.set_size_inches(15,10)\n",
    "plt.show()\n"
   ]
  },
  {
   "cell_type": "markdown",
   "metadata": {},
   "source": [
    "Тепер для даних про захворювання в Польщі."
   ]
  },
  {
   "cell_type": "code",
   "execution_count": null,
   "metadata": {},
   "outputs": [],
   "source": [
    "decomposition = smt.seasonal_decompose(polDataset[~polDataset.isna()])\n",
    "\n",
    "fig = decomposition.plot()\n",
    "fig.set_size_inches(15,10)\n",
    "plt.show()\n"
   ]
  },
  {
   "cell_type": "markdown",
   "metadata": {},
   "source": [
    "Тепер давайте побудуємо графіки автокореляції та часткової автокореляції."
   ]
  },
  {
   "cell_type": "code",
   "execution_count": null,
   "metadata": {},
   "outputs": [],
   "source": [
    "from statsmodels.graphics.tsaplots import plot_acf, plot_pacf\n",
    "\n",
    "fig, ax = plt.subplots(2,figsize=(15,10))\n",
    "fig.suptitle('Ukraine',fontsize = 30)\n",
    "ax[0] = plot_acf(ukrDataset[~ukrDataset.isna()],ax=ax[0],lags = 120)\n",
    "ax[1] = plot_pacf(ukrDataset[~ukrDataset.isna()],ax=ax[1],lags = 120)\n",
    "\n",
    "fig, ax = plt.subplots(2,figsize=(15,10))\n",
    "fig.suptitle('Poland',fontsize = 30)\n",
    "ax[0] = plot_acf(polDataset[~polDataset.isna()],ax=ax[0],lags = 120)\n",
    "ax[1] = plot_pacf(polDataset[~polDataset.isna()],ax=ax[1],lags = 120)"
   ]
  },
  {
   "cell_type": "markdown",
   "metadata": {},
   "source": [
    "Тепер перевіримо ряд на стаціонарність за допомогою доповненого тесту Дікі-Фуллера."
   ]
  },
  {
   "cell_type": "code",
   "execution_count": null,
   "metadata": {},
   "outputs": [],
   "source": [
    "def dickey_fuller_test(series):\n",
    "    test = smt.adfuller(series,autolag = 'AIC')\n",
    "    print('adf: ',test[0])\n",
    "    print('p-value: ',test[1])\n",
    "    print('Critical values: ',test[4])\n",
    "    if(test[0]>test[4]['5%']):\n",
    "        print('Наявні одиничні корені, ряд не стаціонарний')\n",
    "    else:\n",
    "        print('Одиничні корені відсутні, ряд стаціонарний.')\n",
    "\n",
    "dickey_fuller_test(ukrDataset[~ukrDataset.isna()])\n",
    "dickey_fuller_test(polDataset[~polDataset.isna()])"
   ]
  },
  {
   "cell_type": "markdown",
   "metadata": {},
   "source": [
    "Тепер давайте виконаємо другу частину основного завдання. Для початку імпортуємо датасет та відсортуємо за датою."
   ]
  },
  {
   "cell_type": "code",
   "execution_count": null,
   "metadata": {},
   "outputs": [],
   "source": [
    "def getDataset():\n",
    "    data = pd.read_csv('USD_UAH.csv',index_col=['Date'],parse_dates=['Date'])\n",
    "    return data \n",
    "\n",
    "\n",
    "dataset = getDataset()\n",
    "dataset = dataset.sort_index(ascending=True)\n",
    "dataset.info()\n",
    "dataset.head(10)"
   ]
  },
  {
   "cell_type": "markdown",
   "metadata": {},
   "source": [
    "Як ми бачимо, є пропуски в датах, тому давайте це виправимо."
   ]
  },
  {
   "cell_type": "code",
   "execution_count": null,
   "metadata": {},
   "outputs": [],
   "source": [
    "\n",
    "idx = pd.date_range(dataset.index[0], dataset.index[-1])\n",
    "dataset = dataset.reindex(idx)\n",
    "print(dataset.head(10))\n",
    "\n",
    "for index in dataset.index:\n",
    "        if pd.isna(dataset.loc[index, 'Price']):\n",
    "            dataset.loc[index] = dataset.shift().loc[index]\n",
    "            \n",
    "print(dataset.head(10))\n"
   ]
  },
  {
   "cell_type": "markdown",
   "metadata": {},
   "source": [
    "Тепер перевіримо дані на коректність."
   ]
  },
  {
   "cell_type": "code",
   "execution_count": null,
   "metadata": {},
   "outputs": [],
   "source": [
    "print(dataset[dataset['Price']<0])\n",
    "print(dataset[dataset['Open']<0])\n",
    "print(dataset[dataset['High']<0])\n",
    "print(dataset[dataset['Low']<0])"
   ]
  },
  {
   "cell_type": "markdown",
   "metadata": {},
   "source": [
    "Як бачимо, від'ємних даних немає. Можемо працювати з даними. Давайте візуалізуємо динаміку ціни по датах."
   ]
  },
  {
   "cell_type": "code",
   "execution_count": null,
   "metadata": {},
   "outputs": [],
   "source": [
    "fig, ax = plt.subplots(figsize=(12,8))\n",
    "dataset['Price'].plot(ax=ax,subplots=True)\n",
    "ax.grid(True)\n",
    "plt.show()"
   ]
  },
  {
   "cell_type": "markdown",
   "metadata": {},
   "source": [
    "Тепер використаємо згладжування для дослідження характеристик ряду."
   ]
  },
  {
   "cell_type": "code",
   "execution_count": null,
   "metadata": {},
   "outputs": [],
   "source": [
    "plot_moving_average(dataset['Price'],10)\n",
    "plot_moving_average(dataset['Price'],20)\n",
    "plot_moving_average(dataset['Price'],30)"
   ]
  },
  {
   "cell_type": "markdown",
   "metadata": {},
   "source": [
    "Давайте декомпозуємо ціну на тренд, сезонність та залишки."
   ]
  },
  {
   "cell_type": "code",
   "execution_count": null,
   "metadata": {},
   "outputs": [],
   "source": [
    "decomposition = smt.seasonal_decompose(dataset['Price'])\n",
    "fig = decomposition.plot()\n",
    "fig.set_size_inches(15,10)\n",
    "plt.show()"
   ]
  },
  {
   "cell_type": "markdown",
   "metadata": {},
   "source": [
    "Тепер побудуємо графіки автокореляції та часткової автокореляції."
   ]
  },
  {
   "cell_type": "code",
   "execution_count": null,
   "metadata": {},
   "outputs": [],
   "source": [
    "fig, ax = plt.subplots(2,figsize=(15,10))\n",
    "ax[0] = plot_acf(dataset['Price'], ax=ax[0], lags=100)\n",
    "ax[1] = plot_pacf(dataset['Price'], ax=ax[1], lags=100)\n",
    "\n",
    "plt.show()"
   ]
  },
  {
   "cell_type": "markdown",
   "metadata": {},
   "source": [
    "Перевіримо ряд на стаціонарність."
   ]
  },
  {
   "cell_type": "code",
   "execution_count": null,
   "metadata": {},
   "outputs": [],
   "source": [
    "dickey_fuller_test(dataset['Price'])"
   ]
  }
 ],
 "metadata": {
  "interpreter": {
   "hash": "cd33f47137b00f9a3c223ad7cd7ea8009173bfffa8c9627ff61bae578e5b56e2"
  },
  "kernelspec": {
   "display_name": "Python 3.10.4 64-bit",
   "language": "python",
   "name": "python3"
  },
  "language_info": {
   "codemirror_mode": {
    "name": "ipython",
    "version": 3
   },
   "file_extension": ".py",
   "mimetype": "text/x-python",
   "name": "python",
   "nbconvert_exporter": "python",
   "pygments_lexer": "ipython3",
   "version": "3.10.4"
  },
  "orig_nbformat": 4
 },
 "nbformat": 4,
 "nbformat_minor": 2
}
